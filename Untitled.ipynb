{
 "cells": [
  {
   "cell_type": "markdown",
   "id": "91a737b9",
   "metadata": {},
   "source": [
    "What is object-oriented programming? How have we used objects in this class? \n"
   ]
  },
  {
   "cell_type": "code",
   "execution_count": null,
   "id": "11cadefe",
   "metadata": {},
   "outputs": [],
   "source": [
    "Object-oriented programming (OOP) is a way for structuring a program by\n",
    "grouping related properties and behaviors into individual objects.\n",
    "\n",
    "For instance, an object could represent a person with properties like a name,\n",
    "age, and address and behaviors such as walking, \n",
    "talking, breathing, and running\n",
    "\n",
    "How have we used objects in this class? \n",
    "Class in python is like a blueprint for creating an object\n",
    "Use classes to create new objects"
   ]
  },
  {
   "cell_type": "markdown",
   "id": "41251083",
   "metadata": {},
   "source": [
    "What’s the difference between a REST API and  CRUD API? \n"
   ]
  },
  {
   "cell_type": "code",
   "execution_count": null,
   "id": "f29ce738",
   "metadata": {},
   "outputs": [],
   "source": [
    "Create, Read, Update, and Delete — or CRUD — are the four major \n",
    "functions \n",
    "used to interact with database applications. \n",
    "Things you dont want to change very often \n",
    "Representational State Transfer — or REST — is a popular architectural \n",
    "style for software, especially web APIs.They intereact with APIs"
   ]
  },
  {
   "cell_type": "code",
   "execution_count": null,
   "id": "57d19de3",
   "metadata": {},
   "outputs": [],
   "source": [
    "Mango DB considered non relational:\n",
    "\n",
    "It uses JSON-like documents to store data and is run over multiple servers. \n",
    "MongoDB allows for auto-sharding which is a type of database partitioning that \n",
    "separates very large databases into smaller, \n",
    "faster, more easily managed parts called data shards.\n",
    "\n",
    "Non relational \n",
    "here are no tables, rows, primary keys or foreign keys. \n",
    "Instead, the non-relational database uses a storage model optimized for \n",
    "specific requirements of the type of data being stored.\n",
    "\n",
    "Relational :\n",
    "database, stores data in tables and rows also referred to as records."
   ]
  },
  {
   "cell_type": "code",
   "execution_count": null,
   "id": "5be845e6",
   "metadata": {},
   "outputs": [],
   "source": [
    "Document databases\n",
    "Key-value databases\n",
    "Wide-column stores s\n",
    "Graph database\n",
    "\n",
    "Mango db is Document Database.\n",
    "Document databases store data in documents similar to JSON (JavaScript Object Notation) objects. \n",
    "Each document contains pairs of fields and values."
   ]
  },
  {
   "cell_type": "markdown",
   "id": "2c4e0de2",
   "metadata": {},
   "source": [
    "CRUD in PyMango"
   ]
  },
  {
   "cell_type": "code",
   "execution_count": 1,
   "id": "b122827b",
   "metadata": {},
   "outputs": [
    {
     "name": "stdout",
     "output_type": "stream",
     "text": [
      "Requirement already satisfied: pymongo in c:\\users\\sunny\\appdata\\local\\programs\\python\\python38\\lib\\site-packages (3.12.0)\n",
      "Note: you may need to restart the kernel to use updated packages.\n"
     ]
    },
    {
     "name": "stderr",
     "output_type": "stream",
     "text": [
      "WARNING: You are using pip version 21.0.1; however, version 21.2.3 is available.\n",
      "You should consider upgrading via the 'c:\\users\\sunny\\appdata\\local\\programs\\python\\python38\\python.exe -m pip install --upgrade pip' command.\n"
     ]
    }
   ],
   "source": [
    "%pip install pymongo\n",
    "\n"
   ]
  },
  {
   "cell_type": "code",
   "execution_count": 10,
   "id": "82fda89d",
   "metadata": {},
   "outputs": [],
   "source": [
    "# modules\n",
    "import pymongo\n",
    "import datetime"
   ]
  },
  {
   "cell_type": "code",
   "execution_count": 11,
   "id": "149e2b3d",
   "metadata": {},
   "outputs": [],
   "source": [
    "#connect to mongodb on default port, which is 27017\n",
    "conn='mongodb://localhost:27017'\n",
    "client=pymongo.MongoClient(conn)\n",
    "\n",
    "#create a database\n",
    "db = client.shows_db\n",
    "\n",
    "#create a collection in the db\n",
    "tv_shows = db.tv_shows"
   ]
  },
  {
   "cell_type": "code",
   "execution_count": 12,
   "id": "613eb86e",
   "metadata": {},
   "outputs": [
    {
     "data": {
      "text/plain": [
       "<pymongo.results.InsertOneResult at 0x2711b2e2f40>"
      ]
     },
     "execution_count": 12,
     "metadata": {},
     "output_type": "execute_result"
    }
   ],
   "source": [
    "#CREATE\n",
    "#dictionary that represents the document\n",
    "post_data = {'name':'Ted Lasso',\n",
    "             'seasons':2,\n",
    "             'duration':'30 mins',\n",
    "             'year':2020,\n",
    "             'date_added':datetime.datetime.utcnow()\n",
    "            }\n",
    "tv_shows.insert_one(post_data)"
   ]
  },
  {
   "cell_type": "code",
   "execution_count": 16,
   "id": "01a97b26",
   "metadata": {},
   "outputs": [
    {
     "name": "stdout",
     "output_type": "stream",
     "text": [
      "{'_id': ObjectId('610b2fe26fcf1bc808bcf0be'), 'name': 'Ted Lasso', 'seasons': 2, 'duration': '30 mins', 'year': 2020, 'date_added': datetime.datetime(2021, 8, 5, 0, 25, 6, 709000)}\n",
      "{'_id': ObjectId('610b37ee6fcf1bc808bcf0bf'), 'name': 'Ted Lasso ', 'seasons': '2', 'duration': '30 mins', 'year': '2021', 'date_added': datetime.datetime(2021, 8, 5, 0, 59, 26, 586000)}\n",
      "{'_id': ObjectId('610b409b6fcf1bc808bcf0c1'), 'name': 'Ted Lasso', 'seasons': 2, 'duration': '30 mins', 'year': 2020, 'date_added': datetime.datetime(2021, 8, 5, 1, 36, 27, 725000)}\n",
      "{'_id': ObjectId('610b40ad6fcf1bc808bcf0c2'), 'name': 'ted lasso', 'seasons': '2', 'duration': '30 mins', 'year': '2021', 'date_added': datetime.datetime(2021, 8, 5, 1, 36, 45, 849000)}\n",
      "{'_id': ObjectId('610d9978fc8df6551923f2c9'), 'name': 'Ted Lasso', 'seasons': 2, 'duration': '30 mins', 'year': 2020, 'date_added': datetime.datetime(2021, 8, 6, 20, 20, 8, 449000)}\n",
      "{'_id': ObjectId('610d9985fc8df6551923f2ca'), 'name': '', 'seasons': '2', 'duration': '30 mins', 'year': '2021', 'date_added': datetime.datetime(2021, 8, 6, 20, 20, 21, 321000)}\n",
      "{'_id': ObjectId('610da274fc8df6551923f2cc'), 'name': 'Ted Lasso', 'seasons': 2, 'duration': '30 mins', 'year': 2020, 'date_added': datetime.datetime(2021, 8, 6, 20, 58, 28, 827000)}\n"
     ]
    }
   ],
   "source": [
    "#READ\n",
    "results = tv_shows.find()\n",
    "for result in results:\n",
    "    print(result)"
   ]
  },
  {
   "cell_type": "code",
   "execution_count": 17,
   "id": "d1268382",
   "metadata": {},
   "outputs": [
    {
     "name": "stdout",
     "output_type": "stream",
     "text": [
      "What is the show name? ozark\n",
      "Number of Seasons: 3\n",
      "How long is each show? 30 mins\n",
      "What year did the show start? 2021\n"
     ]
    },
    {
     "data": {
      "text/plain": [
       "<pymongo.results.InsertOneResult at 0x2711b2e3c00>"
      ]
     },
     "execution_count": 17,
     "metadata": {},
     "output_type": "execute_result"
    }
   ],
   "source": [
    "#creating with input variables\n",
    "show_name = input('What is the show name? ')\n",
    "seasons = input('Number of Seasons: ')\n",
    "duration = input('How long is each show? ')\n",
    "year = input('What year did the show start? ')\n",
    "\n",
    "post_data = {'name':show_name,\n",
    "             'seasons':seasons,\n",
    "             'duration':duration,\n",
    "             'year':year,\n",
    "             'date_added':datetime.datetime.utcnow()\n",
    "            }\n",
    "tv_shows.insert_one(post_data)"
   ]
  },
  {
   "cell_type": "code",
   "execution_count": 18,
   "id": "d20044a9",
   "metadata": {},
   "outputs": [
    {
     "name": "stdout",
     "output_type": "stream",
     "text": [
      "{'_id': ObjectId('610b2fe26fcf1bc808bcf0be'), 'name': 'Ted Lasso', 'seasons': 2, 'duration': '30 mins', 'year': 2020, 'date_added': datetime.datetime(2021, 8, 5, 0, 25, 6, 709000)}\n",
      "{'_id': ObjectId('610b37ee6fcf1bc808bcf0bf'), 'name': 'Ted Lasso ', 'seasons': '2', 'duration': '30 mins', 'year': '2021', 'date_added': datetime.datetime(2021, 8, 5, 0, 59, 26, 586000)}\n",
      "{'_id': ObjectId('610b409b6fcf1bc808bcf0c1'), 'name': 'Ted Lasso', 'seasons': 2, 'duration': '30 mins', 'year': 2020, 'date_added': datetime.datetime(2021, 8, 5, 1, 36, 27, 725000)}\n",
      "{'_id': ObjectId('610b40ad6fcf1bc808bcf0c2'), 'name': 'ted lasso', 'seasons': '2', 'duration': '30 mins', 'year': '2021', 'date_added': datetime.datetime(2021, 8, 5, 1, 36, 45, 849000)}\n",
      "{'_id': ObjectId('610d9978fc8df6551923f2c9'), 'name': 'Ted Lasso', 'seasons': 2, 'duration': '30 mins', 'year': 2020, 'date_added': datetime.datetime(2021, 8, 6, 20, 20, 8, 449000)}\n",
      "{'_id': ObjectId('610d9985fc8df6551923f2ca'), 'name': '', 'seasons': '2', 'duration': '30 mins', 'year': '2021', 'date_added': datetime.datetime(2021, 8, 6, 20, 20, 21, 321000)}\n",
      "{'_id': ObjectId('610da274fc8df6551923f2cc'), 'name': 'Ted Lasso', 'seasons': 2, 'duration': '30 mins', 'year': 2020, 'date_added': datetime.datetime(2021, 8, 6, 20, 58, 28, 827000)}\n",
      "{'_id': ObjectId('610da2acfc8df6551923f2cd'), 'name': 'ozark', 'seasons': '3', 'duration': '30 mins', 'year': '2021', 'date_added': datetime.datetime(2021, 8, 6, 20, 59, 24, 597000)}\n"
     ]
    }
   ],
   "source": [
    "results = tv_shows.find()\n",
    "for result in results:\n",
    "    print(result)"
   ]
  },
  {
   "cell_type": "code",
   "execution_count": null,
   "id": "e2d4ce13",
   "metadata": {},
   "outputs": [],
   "source": []
  }
 ],
 "metadata": {
  "kernelspec": {
   "display_name": "Python 3",
   "language": "python",
   "name": "python3"
  },
  "language_info": {
   "codemirror_mode": {
    "name": "ipython",
    "version": 3
   },
   "file_extension": ".py",
   "mimetype": "text/x-python",
   "name": "python",
   "nbconvert_exporter": "python",
   "pygments_lexer": "ipython3",
   "version": "3.8.9"
  }
 },
 "nbformat": 4,
 "nbformat_minor": 5
}
