{
 "cells": [
  {
   "cell_type": "markdown",
   "metadata": {},
   "source": [
    "# CRUD in PyMongo"
   ]
  },
  {
   "cell_type": "code",
   "execution_count": 1,
   "metadata": {},
   "outputs": [],
   "source": [
    "# modules\n",
    "import pymongo\n",
    "import datetime"
   ]
  },
  {
   "cell_type": "code",
   "execution_count": 2,
   "metadata": {},
   "outputs": [],
   "source": [
    "#connect to mongodb on default port, which is 27017\n",
    "conn='mongodb://localhost:27017'\n",
    "client=pymongo.MongoClient(conn)\n",
    "\n",
    "#create a database\n",
    "db = client.shows_db\n",
    "\n",
    "#create a collection in the db\n",
    "tv_shows = db.tv_shows"
   ]
  },
  {
   "cell_type": "code",
   "execution_count": 3,
   "metadata": {},
   "outputs": [
    {
     "data": {
      "text/plain": [
       "<pymongo.results.InsertOneResult at 0x2cfe3604d40>"
      ]
     },
     "execution_count": 3,
     "metadata": {},
     "output_type": "execute_result"
    }
   ],
   "source": [
    "#CREATE\n",
    "#dictionary that represents the document\n",
    "post_data = {'name':'Ted Lasso',\n",
    "             'seasons':2,\n",
    "             'duration':'30 mins',\n",
    "             'year':2020,\n",
    "             'date_added':datetime.datetime.utcnow()\n",
    "            }\n",
    "tv_shows.insert_one(post_data)"
   ]
  },
  {
   "cell_type": "code",
   "execution_count": 5,
   "metadata": {},
   "outputs": [
    {
     "data": {
      "text/plain": [
       "<pymongo.results.DeleteResult at 0x2cfe3648340>"
      ]
     },
     "execution_count": 5,
     "metadata": {},
     "output_type": "execute_result"
    }
   ],
   "source": [
    "#DELETE\n",
    "tv_shows.delete_one({'name':'Ted Lasso'})"
   ]
  },
  {
   "cell_type": "code",
   "execution_count": 6,
   "metadata": {},
   "outputs": [],
   "source": [
    "#READ\n",
    "results = tv_shows.find()\n",
    "for result in results:\n",
    "    print(result)"
   ]
  },
  {
   "cell_type": "code",
   "execution_count": 8,
   "metadata": {},
   "outputs": [
    {
     "name": "stdout",
     "output_type": "stream",
     "text": [
      "What is the show name? Deamon Slayer\n",
      "Number of Seasons: 2\n",
      "How long is each show? an hour\n",
      "What year did the show start? 2019\n"
     ]
    },
    {
     "data": {
      "text/plain": [
       "<pymongo.results.InsertOneResult at 0x2cfe3656080>"
      ]
     },
     "execution_count": 8,
     "metadata": {},
     "output_type": "execute_result"
    }
   ],
   "source": [
    "#creating with input variables\n",
    "show_name = input('What is the show name? ')\n",
    "seasons = input('Number of Seasons: ')\n",
    "duration = input('How long is each show? ')\n",
    "year = input('What year did the show start? ')\n",
    "\n",
    "post_data = {'name':show_name,\n",
    "             'seasons':seasons,\n",
    "             'duration':duration,\n",
    "             'year':year,\n",
    "             'date_added':datetime.datetime.utcnow()\n",
    "            }\n",
    "tv_shows.insert_one(post_data)"
   ]
  },
  {
   "cell_type": "code",
   "execution_count": 9,
   "metadata": {},
   "outputs": [
    {
     "name": "stdout",
     "output_type": "stream",
     "text": [
      "{'_id': ObjectId('610b2816e20b4522ec77cf9f'), 'name': 'Deamon Slayer', 'seasons': '2', 'duration': 'an hour', 'year': '2019', 'date_added': datetime.datetime(2021, 8, 4, 23, 51, 50, 863000)}\n"
     ]
    }
   ],
   "source": [
    "results = tv_shows.find()\n",
    "for result in results:\n",
    "    print(result)\n",
    "    "
   ]
  },
  {
   "cell_type": "code",
   "execution_count": null,
   "metadata": {},
   "outputs": [],
   "source": []
  }
 ],
 "metadata": {
  "kernelspec": {
   "display_name": "Python 3",
   "language": "python",
   "name": "python3"
  },
  "language_info": {
   "codemirror_mode": {
    "name": "ipython",
    "version": 3
   },
   "file_extension": ".py",
   "mimetype": "text/x-python",
   "name": "python",
   "nbconvert_exporter": "python",
   "pygments_lexer": "ipython3",
   "version": "3.8.9"
  }
 },
 "nbformat": 4,
 "nbformat_minor": 4
}
