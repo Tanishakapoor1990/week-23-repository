{
 "cells": [
  {
   "cell_type": "markdown",
   "id": "42a9b34b",
   "metadata": {},
   "source": [
    "What is object-oriented programming? How have we used objects in this class? \n"
   ]
  },
  {
   "cell_type": "code",
   "execution_count": null,
   "id": "ea6d5726",
   "metadata": {},
   "outputs": [],
   "source": [
    "Object-oriented programming (OOP) is a way for structuring a program by\n",
    "grouping related properties and behaviors into individual objects.\n",
    "\n",
    "For instance, an object could represent a person with properties like a name,\n",
    "age, and address and behaviors such as walking, \n",
    "talking, breathing, and running\n",
    "\n",
    "How have we used objects in this class? \n",
    "Class in python is like a blueprint for creating an object\n",
    "Use classes to create new objects"
   ]
  },
  {
   "cell_type": "markdown",
   "id": "19dd6fc8",
   "metadata": {},
   "source": [
    "What’s the difference between a REST API and  CRUD API? \n"
   ]
  },
  {
   "cell_type": "code",
   "execution_count": null,
   "id": "157708d1",
   "metadata": {},
   "outputs": [],
   "source": [
    "Create, Read, Update, and Delete — or CRUD — are the four major \n",
    "functions \n",
    "used to interact with database applications. \n",
    "Things you dont want to change very often \n",
    "Representational State Transfer — or REST — is a popular architectural \n",
    "style for software, especially web APIs.They intereact with APIs"
   ]
  }
 ],
 "metadata": {
  "kernelspec": {
   "display_name": "Python 3",
   "language": "python",
   "name": "python3"
  },
  "language_info": {
   "codemirror_mode": {
    "name": "ipython",
    "version": 3
   },
   "file_extension": ".py",
   "mimetype": "text/x-python",
   "name": "python",
   "nbconvert_exporter": "python",
   "pygments_lexer": "ipython3",
   "version": "3.8.9"
  }
 },
 "nbformat": 4,
 "nbformat_minor": 5
}
